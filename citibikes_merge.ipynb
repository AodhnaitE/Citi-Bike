{
 "cells": [
  {
   "cell_type": "code",
   "execution_count": 23,
   "id": "d783cf11",
   "metadata": {},
   "outputs": [],
   "source": [
    "#Importing the dependencies\n",
    "import pandas as pd\n",
    "from functools import reduce"
   ]
  },
  {
   "cell_type": "code",
   "execution_count": 24,
   "id": "d265334b",
   "metadata": {},
   "outputs": [],
   "source": [
    "#Importing the data\n",
    "Jan_2020 = pd.read_csv(\"/Users/aodhnaitelliott/Documents/Homework/18-Tableau/HomeWork/Instructions/Resources/Raw data/202001-citibike-tripdata.csv\", sep=',')\n",
    "Feb_2020 = pd.read_csv(\"/Users/aodhnaitelliott/Documents/Homework/18-Tableau/HomeWork/Instructions/Resources/Raw data/202002-citibike-tripdata.csv\", sep=',')\n",
    "Mar_2020 = pd.read_csv(\"/Users/aodhnaitelliott/Documents/Homework/18-Tableau/HomeWork/Instructions/Resources/Raw data/202003-citibike-tripdata.csv\", sep=',')\n",
    "Apr_2020 = pd.read_csv(\"/Users/aodhnaitelliott/Documents/Homework/18-Tableau/HomeWork/Instructions/Resources/Raw data/202004-citibike-tripdata.csv\", sep=',')\n",
    "May_2020 = pd.read_csv(\"/Users/aodhnaitelliott/Documents/Homework/18-Tableau/HomeWork/Instructions/Resources/Raw data/202005-citibike-tripdata.csv\", sep=',')\n",
    "Jun_2020 = pd.read_csv(\"/Users/aodhnaitelliott/Documents/Homework/18-Tableau/HomeWork/Instructions/Resources/Raw data/202006-citibike-tripdata.csv\", sep=',')"
   ]
  },
  {
   "cell_type": "code",
   "execution_count": 25,
   "id": "9189a9f8",
   "metadata": {},
   "outputs": [],
   "source": [
    "CitiBikesDF = pd.concat([Jan_2020,Feb_2020,Mar_2020,Apr_2020,May_2020,Jun_2020])"
   ]
  },
  {
   "cell_type": "code",
   "execution_count": 26,
   "id": "fe44c7b5",
   "metadata": {},
   "outputs": [],
   "source": [
    "CitiBikesDF.to_csv('/Users/aodhnaitelliott/Documents/Homework/18-Tableau/HomeWork/Instructions/Resources/citibike(new).csv')"
   ]
  }
 ],
 "metadata": {
  "kernelspec": {
   "display_name": "Python 3 (ipykernel)",
   "language": "python",
   "name": "python3"
  },
  "language_info": {
   "codemirror_mode": {
    "name": "ipython",
    "version": 3
   },
   "file_extension": ".py",
   "mimetype": "text/x-python",
   "name": "python",
   "nbconvert_exporter": "python",
   "pygments_lexer": "ipython3",
   "version": "3.11.0"
  }
 },
 "nbformat": 4,
 "nbformat_minor": 5
}
